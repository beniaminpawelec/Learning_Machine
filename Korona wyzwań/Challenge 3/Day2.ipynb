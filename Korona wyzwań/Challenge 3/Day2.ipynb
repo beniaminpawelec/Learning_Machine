{
 "cells": [
  {
   "cell_type": "code",
   "execution_count": null,
   "metadata": {},
   "outputs": [],
   "source": []
  },
  {
   "cell_type": "code",
   "execution_count": 26,
   "metadata": {},
   "outputs": [],
   "source": [
    "from flask import Flask\n",
    "import eventlet.wsgi\n",
    "import eventlet\n",
    "import socketio\n",
    "import base64\n",
    "from PIL import Image\n",
    "from io import BytesIO\n",
    "import numpy as np\n",
    "import matplotlib.pyplot as plt\n",
    "from keras.models import load_model"
   ]
  },
  {
   "cell_type": "code",
   "execution_count": 2,
   "metadata": {},
   "outputs": [],
   "source": [
    "sio = socketio.Server()\n",
    "app = Flask(__name__)\n",
    "\n",
    "\n",
    "def send_control(steering_angle, throttle):\n",
    "    sio.emit(\"steer\", data={'steering_angle': str(steering_angle),\n",
    "                            'throttle': str(throttle) }, skip_sid=True)\n"
   ]
  },
  {
   "cell_type": "code",
   "execution_count": null,
   "metadata": {},
   "outputs": [
    {
     "name": "stderr",
     "output_type": "stream",
     "text": [
      "(5592) wsgi starting up on http://0.0.0.0:4567\n",
      "(5592) accepted ('127.0.0.1', 62532)\n",
      "127.0.0.1 - - [27/Mar/2020 13:35:12] \"GET /socket.io/?EIO=4&transport=websocket HTTP/1.1\" 200 0 349.497810\n"
     ]
    }
   ],
   "source": [
    "def process_image(img):\n",
    "    return img[10:130:2,::4,:]\n",
    "\n",
    "@sio.on('telemetry')\n",
    "def telemetry(sid, data):\n",
    "    if data:\n",
    "        speed = float(data[\"speed\"])\n",
    "        image_str = data[\"image\"]\n",
    "        \n",
    "        decoded = base64.b64decode(image_str)\n",
    "        image=Image.open(BytesIO(decoded))\n",
    "        image_array = np.asarray(image)\n",
    "        \n",
    "        \n",
    "        #plt.imshow(image_array)\n",
    "        #plt.show();\n",
    "        \n",
    "        img = process_image(image_array)\n",
    "        img_batch = np.expand_dims(img,axis=0)\n",
    "        \n",
    "        \n",
    "        steering_angle = float(model.predict(img_batch))\n",
    "        \n",
    "        throttle = 0.15\n",
    "       # steering_angle = 0.0\n",
    "        if speed <15:\n",
    "            throttle = 0.5\n",
    "        if speed > 17:\n",
    "            throttle = -0.1\n",
    "            \n",
    "\n",
    "        send_control(steering_angle, throttle)\n",
    "    else:\n",
    "        sio.emit('manual', data={}, skip_sid=True)\n",
    "\n",
    "        \n",
    "app = socketio.Middleware(sio, app)\n",
    "eventlet.wsgi.server(eventlet.listen(('', 4567)), app)"
   ]
  },
  {
   "cell_type": "code",
   "execution_count": 34,
   "metadata": {},
   "outputs": [
    {
     "name": "stderr",
     "output_type": "stream",
     "text": [
      "(5592) wsgi starting up on http://0.0.0.0:4567\n",
      "(5592) accepted ('127.0.0.1', 62521)\n",
      "127.0.0.1 - - [27/Mar/2020 13:26:41] \"GET /socket.io/?EIO=4&transport=websocket HTTP/1.1\" 200 0 33.489779\n",
      "(5592) accepted ('127.0.0.1', 62528)\n",
      "Exception in thread Thread-3253:\n",
      "Traceback (most recent call last):\n",
      "  File \"C:\\Users\\benia\\Anaconda3\\lib\\threading.py\", line 926, in _bootstrap_inner\n",
      "    self.run()\n",
      "  File \"C:\\Users\\benia\\Anaconda3\\lib\\threading.py\", line 870, in run\n",
      "    self._target(*self._args, **self._kwargs)\n",
      "  File \"C:\\Users\\benia\\Anaconda3\\lib\\site-packages\\socketio\\server.py\", line 651, in _handle_event_internal\n",
      "    r = server._trigger_event(data[0], namespace, sid, *data[1:])\n",
      "  File \"C:\\Users\\benia\\Anaconda3\\lib\\site-packages\\socketio\\server.py\", line 680, in _trigger_event\n",
      "    return self.handlers[namespace][event](*args)\n",
      "  File \"<ipython-input-33-84a1f0983893>\", line 22, in telemetry\n",
      "    steering_angle = float(model.predict(img_batch))\n",
      "  File \"C:\\Users\\benia\\Anaconda3\\lib\\site-packages\\keras\\engine\\training.py\", line 1462, in predict\n",
      "    callbacks=callbacks)\n",
      "  File \"C:\\Users\\benia\\Anaconda3\\lib\\site-packages\\keras\\engine\\training_arrays.py\", line 324, in predict_loop\n",
      "    batch_outs = f(ins_batch)\n",
      "  File \"C:\\Users\\benia\\Anaconda3\\lib\\site-packages\\tensorflow_core\\python\\keras\\backend.py\", line 3727, in __call__\n",
      "    outputs = self._graph_fn(*converted_inputs)\n",
      "  File \"C:\\Users\\benia\\Anaconda3\\lib\\site-packages\\tensorflow_core\\python\\eager\\function.py\", line 1551, in __call__\n",
      "    return self._call_impl(args, kwargs)\n",
      "  File \"C:\\Users\\benia\\Anaconda3\\lib\\site-packages\\tensorflow_core\\python\\eager\\function.py\", line 1591, in _call_impl\n",
      "    return self._call_flat(args, self.captured_inputs, cancellation_manager)\n",
      "  File \"C:\\Users\\benia\\Anaconda3\\lib\\site-packages\\tensorflow_core\\python\\eager\\function.py\", line 1692, in _call_flat\n",
      "    ctx, args, cancellation_manager=cancellation_manager))\n",
      "  File \"C:\\Users\\benia\\Anaconda3\\lib\\site-packages\\tensorflow_core\\python\\eager\\function.py\", line 545, in call\n",
      "    ctx=ctx)\n",
      "  File \"C:\\Users\\benia\\Anaconda3\\lib\\site-packages\\tensorflow_core\\python\\eager\\execute.py\", line 61, in quick_execute\n",
      "    num_outputs)\n",
      "KeyboardInterrupt\n",
      "\n",
      "wsgi exiting\n",
      "127.0.0.1 - - [27/Mar/2020 13:29:22] \"GET /socket.io/?EIO=4&transport=websocket HTTP/1.1\" 200 0 124.876152\n",
      "(5592) wsgi exited, is_accepting=True\n"
     ]
    }
   ],
   "source": [
    "\n",
    "if __name__ == '__main__':\n",
    "    app = socketio.Middleware(sio, app)\n",
    "    eventlet.wsgi.server(eventlet.listen(('', 4567)), app)"
   ]
  },
  {
   "cell_type": "code",
   "execution_count": 27,
   "metadata": {},
   "outputs": [],
   "source": [
    "model = load_model(\"model.h5\")"
   ]
  },
  {
   "cell_type": "code",
   "execution_count": 28,
   "metadata": {},
   "outputs": [
    {
     "name": "stdout",
     "output_type": "stream",
     "text": [
      "Model: \"sequential_1\"\n",
      "_________________________________________________________________\n",
      "Layer (type)                 Output Shape              Param #   \n",
      "=================================================================\n",
      "conv2d_1 (Conv2D)            (None, 58, 78, 64)        1792      \n",
      "_________________________________________________________________\n",
      "activation_1 (Activation)    (None, 58, 78, 64)        0         \n",
      "_________________________________________________________________\n",
      "conv2d_2 (Conv2D)            (None, 56, 76, 32)        18464     \n",
      "_________________________________________________________________\n",
      "activation_2 (Activation)    (None, 56, 76, 32)        0         \n",
      "_________________________________________________________________\n",
      "max_pooling2d_1 (MaxPooling2 (None, 28, 38, 32)        0         \n",
      "_________________________________________________________________\n",
      "conv2d_3 (Conv2D)            (None, 26, 36, 16)        4624      \n",
      "_________________________________________________________________\n",
      "activation_3 (Activation)    (None, 26, 36, 16)        0         \n",
      "_________________________________________________________________\n",
      "max_pooling2d_2 (MaxPooling2 (None, 13, 18, 16)        0         \n",
      "_________________________________________________________________\n",
      "conv2d_4 (Conv2D)            (None, 11, 16, 8)         1160      \n",
      "_________________________________________________________________\n",
      "activation_4 (Activation)    (None, 11, 16, 8)         0         \n",
      "_________________________________________________________________\n",
      "max_pooling2d_3 (MaxPooling2 (None, 5, 8, 8)           0         \n",
      "_________________________________________________________________\n",
      "dropout_1 (Dropout)          (None, 5, 8, 8)           0         \n",
      "_________________________________________________________________\n",
      "flatten_1 (Flatten)          (None, 320)               0         \n",
      "_________________________________________________________________\n",
      "dense_1 (Dense)              (None, 512)               164352    \n",
      "_________________________________________________________________\n",
      "activation_5 (Activation)    (None, 512)               0         \n",
      "_________________________________________________________________\n",
      "dropout_2 (Dropout)          (None, 512)               0         \n",
      "_________________________________________________________________\n",
      "dense_2 (Dense)              (None, 512)               262656    \n",
      "_________________________________________________________________\n",
      "activation_6 (Activation)    (None, 512)               0         \n",
      "_________________________________________________________________\n",
      "dropout_3 (Dropout)          (None, 512)               0         \n",
      "_________________________________________________________________\n",
      "dense_3 (Dense)              (None, 16)                8208      \n",
      "_________________________________________________________________\n",
      "activation_7 (Activation)    (None, 16)                0         \n",
      "_________________________________________________________________\n",
      "dense_4 (Dense)              (None, 1)                 17        \n",
      "=================================================================\n",
      "Total params: 461,273\n",
      "Trainable params: 461,273\n",
      "Non-trainable params: 0\n",
      "_________________________________________________________________\n"
     ]
    }
   ],
   "source": [
    "model.summary()"
   ]
  },
  {
   "cell_type": "code",
   "execution_count": null,
   "metadata": {},
   "outputs": [],
   "source": []
  }
 ],
 "metadata": {
  "kernelspec": {
   "display_name": "Python 3",
   "language": "python",
   "name": "python3"
  },
  "language_info": {
   "codemirror_mode": {
    "name": "ipython",
    "version": 3
   },
   "file_extension": ".py",
   "mimetype": "text/x-python",
   "name": "python",
   "nbconvert_exporter": "python",
   "pygments_lexer": "ipython3",
   "version": "3.7.6"
  }
 },
 "nbformat": 4,
 "nbformat_minor": 4
}
