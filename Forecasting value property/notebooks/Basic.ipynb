{
 "cells": [
  {
   "cell_type": "code",
   "execution_count": 16,
   "metadata": {},
   "outputs": [],
   "source": [
    "import pandas as pd\n",
    "import numpy as np\n",
    "import re"
   ]
  },
  {
   "cell_type": "code",
   "execution_count": 11,
   "metadata": {},
   "outputs": [
    {
     "name": "stdout",
     "output_type": "stream",
     "text": [
      "C:\\Users\\benia\\Desktop\\Machine_Learning\\Forecasting value property\n"
     ]
    }
   ],
   "source": [
    "cd Forecasting value property"
   ]
  },
  {
   "cell_type": "code",
   "execution_count": 14,
   "metadata": {},
   "outputs": [
    {
     "name": "stdout",
     "output_type": "stream",
     "text": [
      " Volume in drive C has no label.\n",
      " Volume Serial Number is 588D-4BF9\n",
      "\n",
      " Directory of C:\\Users\\benia\\Desktop\\Machine_Learning\\Forecasting value property\\input\n",
      "\n",
      "22.02.2020  13:04    <DIR>          .\n",
      "22.02.2020  13:04    <DIR>          ..\n",
      "13.12.2019  17:32        12˙594˙968 property_polish.h5\n",
      "               1 File(s)     12˙594˙968 bytes\n",
      "               2 Dir(s)  41˙297˙838˙080 bytes free\n"
     ]
    }
   ],
   "source": [
    "ls"
   ]
  },
  {
   "cell_type": "code",
   "execution_count": 18,
   "metadata": {},
   "outputs": [],
   "source": [
    "df = pd.read_hdf('property_polish.h5')"
   ]
  },
  {
   "cell_type": "code",
   "execution_count": 19,
   "metadata": {},
   "outputs": [
    {
     "data": {
      "text/html": [
       "<div>\n",
       "<style scoped>\n",
       "    .dataframe tbody tr th:only-of-type {\n",
       "        vertical-align: middle;\n",
       "    }\n",
       "\n",
       "    .dataframe tbody tr th {\n",
       "        vertical-align: top;\n",
       "    }\n",
       "\n",
       "    .dataframe thead th {\n",
       "        text-align: right;\n",
       "    }\n",
       "</style>\n",
       "<table border=\"1\" class=\"dataframe\">\n",
       "  <thead>\n",
       "    <tr style=\"text-align: right;\">\n",
       "      <th></th>\n",
       "      <th>building</th>\n",
       "      <th>extra_benefits</th>\n",
       "      <th>parking</th>\n",
       "      <th>apartament</th>\n",
       "      <th>offer</th>\n",
       "      <th>surroundings</th>\n",
       "      <th>extra_description</th>\n",
       "      <th>benefit_investment</th>\n",
       "      <th>broker_license</th>\n",
       "      <th>stats</th>\n",
       "      <th>...</th>\n",
       "      <th>location</th>\n",
       "      <th>finishing</th>\n",
       "      <th>bathroom</th>\n",
       "      <th>apartament_fix</th>\n",
       "      <th>price</th>\n",
       "      <th>y_pred_price_mean</th>\n",
       "      <th>price_m2</th>\n",
       "      <th>y_pred_price_m2_mean_area</th>\n",
       "      <th>price_log</th>\n",
       "      <th>price_log_m2</th>\n",
       "    </tr>\n",
       "  </thead>\n",
       "  <tbody>\n",
       "    <tr>\n",
       "      <td>0</td>\n",
       "      <td>{'Typ budynku': 'apartamentowiec', 'Liczba pię...</td>\n",
       "      <td>NaN</td>\n",
       "      <td>NaN</td>\n",
       "      <td>{'Liczba pokoi': 'parter', 'Kuchnia': 'do wyko...</td>\n",
       "      <td>268 300 zł (7 884 zł/m</td>\n",
       "      <td>{'Zdrowie': ['\n",
       "                               ...</td>\n",
       "      <td>[Wyjątkowa inwestycja zlokalizowana na warszaw...</td>\n",
       "      <td>NaN</td>\n",
       "      <td>Nr licencji pośrednika: 7820</td>\n",
       "      <td>[[Źródło: , Biuro nieruchomości], [Rynek: , wt...</td>\n",
       "      <td>...</td>\n",
       "      <td>-1</td>\n",
       "      <td>-1</td>\n",
       "      <td>-1</td>\n",
       "      <td>{'Liczba pokoi': '1', 'Kuchnia': 'oddzielna', ...</td>\n",
       "      <td>268300.0</td>\n",
       "      <td>688142.59123</td>\n",
       "      <td>7884.219806</td>\n",
       "      <td>2.892566e+05</td>\n",
       "      <td>12.499861</td>\n",
       "      <td>0.367319</td>\n",
       "    </tr>\n",
       "    <tr>\n",
       "      <td>0</td>\n",
       "      <td>{'Typ budynku': 'dom wielorodzinny', 'Liczba p...</td>\n",
       "      <td>NaN</td>\n",
       "      <td>NaN</td>\n",
       "      <td>{'Liczba pokoi': '1', 'Stan łazienki': 'oddzie...</td>\n",
       "      <td>1 188 000 zł (8 609 zł/m</td>\n",
       "      <td>{'Zdrowie': ['\n",
       "                               ...</td>\n",
       "      <td>[Bardzo ładne, ciepłe mieszkanie w świeżo zbud...</td>\n",
       "      <td>NaN</td>\n",
       "      <td>Nr licencji pośrednika: 18802</td>\n",
       "      <td>[[Źródło: , Biuro nieruchomości], [Rynek: , wt...</td>\n",
       "      <td>...</td>\n",
       "      <td>północno-zachodnie, południowo-wschodnie</td>\n",
       "      <td>-1</td>\n",
       "      <td>-1</td>\n",
       "      <td>{'Liczba pokoi': '4', 'Stan łazienki': 'dobry'...</td>\n",
       "      <td>1188000.0</td>\n",
       "      <td>688142.59123</td>\n",
       "      <td>8608.695652</td>\n",
       "      <td>1.173007e+06</td>\n",
       "      <td>13.987782</td>\n",
       "      <td>0.101361</td>\n",
       "    </tr>\n",
       "    <tr>\n",
       "      <td>0</td>\n",
       "      <td>{'Typ budynku': 'apartamentowiec', 'Liczba pię...</td>\n",
       "      <td>telefon, internet, TV kablowa, winda, ogrzewan...</td>\n",
       "      <td>garaż</td>\n",
       "      <td>{'Liczba pokoi': '4', 'Forma własności': 'włas...</td>\n",
       "      <td>2 990 000 zł (14 238 zł/m</td>\n",
       "      <td>{}</td>\n",
       "      <td>[| , \\nPrzestronny, bardzo słoneczny, cichy, j...</td>\n",
       "      <td>NaN</td>\n",
       "      <td></td>\n",
       "      <td>[[Źródło: , Biuro nieruchomości], [Rynek: , wt...</td>\n",
       "      <td>...</td>\n",
       "      <td>-1</td>\n",
       "      <td>-1</td>\n",
       "      <td>-1</td>\n",
       "      <td>{'Liczba pokoi': '6', 'Forma własności': 'włas...</td>\n",
       "      <td>2990000.0</td>\n",
       "      <td>688142.59123</td>\n",
       "      <td>14238.095238</td>\n",
       "      <td>1.785010e+06</td>\n",
       "      <td>14.910784</td>\n",
       "      <td>0.071004</td>\n",
       "    </tr>\n",
       "    <tr>\n",
       "      <td>0</td>\n",
       "      <td>{'Typ budynku': 'apartamentowiec', 'Liczba pię...</td>\n",
       "      <td>winda</td>\n",
       "      <td>garaż, parking podziemny</td>\n",
       "      <td>{'Liczba pokoi': '6', 'Kuchnia': 'do wykończen...</td>\n",
       "      <td>979 862 zł (16 900 zł/m</td>\n",
       "      <td>{'Zdrowie': ['\n",
       "                               ...</td>\n",
       "      <td>[Ścisłe centrum stolicy osłonięte od zgiełku m...</td>\n",
       "      <td>NaN</td>\n",
       "      <td></td>\n",
       "      <td>[[Źródło: , Biuro nieruchomości], [Rynek: , wt...</td>\n",
       "      <td>...</td>\n",
       "      <td>-1</td>\n",
       "      <td>-1</td>\n",
       "      <td>-1</td>\n",
       "      <td>{'Liczba pokoi': '2', 'Kuchnia': 'w aneksie', ...</td>\n",
       "      <td>979862.0</td>\n",
       "      <td>688142.59123</td>\n",
       "      <td>16900.000000</td>\n",
       "      <td>4.928328e+05</td>\n",
       "      <td>13.795167</td>\n",
       "      <td>0.237930</td>\n",
       "    </tr>\n",
       "    <tr>\n",
       "      <td>0</td>\n",
       "      <td>{'Liczba pięter': '4', 'Rok budowy': '1936', '...</td>\n",
       "      <td>NaN</td>\n",
       "      <td>NaN</td>\n",
       "      <td>{'Forma własności': 'własność', 'Powierzchnia'...</td>\n",
       "      <td>375 000 zł (13 889 zł/m</td>\n",
       "      <td>{'Zdrowie': ['\n",
       "                               ...</td>\n",
       "      <td>[KAMIENICA PO REMONCIE W 2014 ROKU, \\nMIESZKAN...</td>\n",
       "      <td>NaN</td>\n",
       "      <td>Nr licencji pośrednika: 6315</td>\n",
       "      <td>[[Źródło: , Biuro nieruchomości], [Rynek: , wt...</td>\n",
       "      <td>...</td>\n",
       "      <td>-1</td>\n",
       "      <td>-1</td>\n",
       "      <td>-1</td>\n",
       "      <td>{'Forma własności': 'własność', 'Powierzchnia'...</td>\n",
       "      <td>375000.0</td>\n",
       "      <td>688142.59123</td>\n",
       "      <td>13888.888889</td>\n",
       "      <td>2.295013e+05</td>\n",
       "      <td>12.834681</td>\n",
       "      <td>0.475359</td>\n",
       "    </tr>\n",
       "  </tbody>\n",
       "</table>\n",
       "<p>5 rows × 38 columns</p>\n",
       "</div>"
      ],
      "text/plain": [
       "                                            building  \\\n",
       "0  {'Typ budynku': 'apartamentowiec', 'Liczba pię...   \n",
       "0  {'Typ budynku': 'dom wielorodzinny', 'Liczba p...   \n",
       "0  {'Typ budynku': 'apartamentowiec', 'Liczba pię...   \n",
       "0  {'Typ budynku': 'apartamentowiec', 'Liczba pię...   \n",
       "0  {'Liczba pięter': '4', 'Rok budowy': '1936', '...   \n",
       "\n",
       "                                      extra_benefits  \\\n",
       "0                                                NaN   \n",
       "0                                                NaN   \n",
       "0  telefon, internet, TV kablowa, winda, ogrzewan...   \n",
       "0                                              winda   \n",
       "0                                                NaN   \n",
       "\n",
       "                    parking  \\\n",
       "0                       NaN   \n",
       "0                       NaN   \n",
       "0                     garaż   \n",
       "0  garaż, parking podziemny   \n",
       "0                       NaN   \n",
       "\n",
       "                                          apartament  \\\n",
       "0  {'Liczba pokoi': 'parter', 'Kuchnia': 'do wyko...   \n",
       "0  {'Liczba pokoi': '1', 'Stan łazienki': 'oddzie...   \n",
       "0  {'Liczba pokoi': '4', 'Forma własności': 'włas...   \n",
       "0  {'Liczba pokoi': '6', 'Kuchnia': 'do wykończen...   \n",
       "0  {'Forma własności': 'własność', 'Powierzchnia'...   \n",
       "\n",
       "                       offer  \\\n",
       "0     268 300 zł (7 884 zł/m   \n",
       "0   1 188 000 zł (8 609 zł/m   \n",
       "0  2 990 000 zł (14 238 zł/m   \n",
       "0    979 862 zł (16 900 zł/m   \n",
       "0    375 000 zł (13 889 zł/m   \n",
       "\n",
       "                                        surroundings  \\\n",
       "0  {'Zdrowie': ['\n",
       "                               ...   \n",
       "0  {'Zdrowie': ['\n",
       "                               ...   \n",
       "0                                                 {}   \n",
       "0  {'Zdrowie': ['\n",
       "                               ...   \n",
       "0  {'Zdrowie': ['\n",
       "                               ...   \n",
       "\n",
       "                                   extra_description benefit_investment  \\\n",
       "0  [Wyjątkowa inwestycja zlokalizowana na warszaw...                NaN   \n",
       "0  [Bardzo ładne, ciepłe mieszkanie w świeżo zbud...                NaN   \n",
       "0  [| , \\nPrzestronny, bardzo słoneczny, cichy, j...                NaN   \n",
       "0  [Ścisłe centrum stolicy osłonięte od zgiełku m...                NaN   \n",
       "0  [KAMIENICA PO REMONCIE W 2014 ROKU, \\nMIESZKAN...                NaN   \n",
       "\n",
       "                  broker_license  \\\n",
       "0   Nr licencji pośrednika: 7820   \n",
       "0  Nr licencji pośrednika: 18802   \n",
       "0                                  \n",
       "0                                  \n",
       "0   Nr licencji pośrednika: 6315   \n",
       "\n",
       "                                               stats  ...  \\\n",
       "0  [[Źródło: , Biuro nieruchomości], [Rynek: , wt...  ...   \n",
       "0  [[Źródło: , Biuro nieruchomości], [Rynek: , wt...  ...   \n",
       "0  [[Źródło: , Biuro nieruchomości], [Rynek: , wt...  ...   \n",
       "0  [[Źródło: , Biuro nieruchomości], [Rynek: , wt...  ...   \n",
       "0  [[Źródło: , Biuro nieruchomości], [Rynek: , wt...  ...   \n",
       "\n",
       "                                   location  finishing  bathroom  \\\n",
       "0                                        -1         -1        -1   \n",
       "0  północno-zachodnie, południowo-wschodnie         -1        -1   \n",
       "0                                        -1         -1        -1   \n",
       "0                                        -1         -1        -1   \n",
       "0                                        -1         -1        -1   \n",
       "\n",
       "                                      apartament_fix      price  \\\n",
       "0  {'Liczba pokoi': '1', 'Kuchnia': 'oddzielna', ...   268300.0   \n",
       "0  {'Liczba pokoi': '4', 'Stan łazienki': 'dobry'...  1188000.0   \n",
       "0  {'Liczba pokoi': '6', 'Forma własności': 'włas...  2990000.0   \n",
       "0  {'Liczba pokoi': '2', 'Kuchnia': 'w aneksie', ...   979862.0   \n",
       "0  {'Forma własności': 'własność', 'Powierzchnia'...   375000.0   \n",
       "\n",
       "  y_pred_price_mean      price_m2 y_pred_price_m2_mean_area  price_log  \\\n",
       "0      688142.59123   7884.219806              2.892566e+05  12.499861   \n",
       "0      688142.59123   8608.695652              1.173007e+06  13.987782   \n",
       "0      688142.59123  14238.095238              1.785010e+06  14.910784   \n",
       "0      688142.59123  16900.000000              4.928328e+05  13.795167   \n",
       "0      688142.59123  13888.888889              2.295013e+05  12.834681   \n",
       "\n",
       "   price_log_m2  \n",
       "0      0.367319  \n",
       "0      0.101361  \n",
       "0      0.071004  \n",
       "0      0.237930  \n",
       "0      0.475359  \n",
       "\n",
       "[5 rows x 38 columns]"
      ]
     },
     "execution_count": 19,
     "metadata": {},
     "output_type": "execute_result"
    }
   ],
   "source": [
    "df.head()"
   ]
  },
  {
   "cell_type": "code",
   "execution_count": 20,
   "metadata": {},
   "outputs": [
    {
     "name": "stdout",
     "output_type": "stream",
     "text": [
      "<class 'pandas.core.frame.DataFrame'>\n",
      "Int64Index: 896 entries, 0 to 0\n",
      "Data columns (total 38 columns):\n",
      "building                     885 non-null object\n",
      "extra_benefits               493 non-null object\n",
      "parking                      356 non-null object\n",
      "apartament                   896 non-null object\n",
      "offer                        896 non-null object\n",
      "surroundings                 896 non-null object\n",
      "extra_description            876 non-null object\n",
      "benefit_investment           20 non-null object\n",
      "broker_license               896 non-null object\n",
      "stats                        896 non-null object\n",
      "broker_id                    896 non-null int16\n",
      "broker_company_id            896 non-null int16\n",
      "bulding_floors               896 non-null int64\n",
      "name                         896 non-null object\n",
      "year_building                896 non-null object\n",
      "type_building                896 non-null object\n",
      "ownership                    896 non-null object\n",
      "loudness                     896 non-null object\n",
      "kitchen                      896 non-null object\n",
      "num_rooms                    896 non-null int64\n",
      "num_levels                   896 non-null int64\n",
      "windows                      896 non-null object\n",
      "num_floor                    896 non-null int64\n",
      "area                         896 non-null float64\n",
      "extra_area                   896 non-null int64\n",
      "installations                896 non-null object\n",
      "condition_general            896 non-null object\n",
      "condition_bathroom           896 non-null object\n",
      "location                     896 non-null object\n",
      "finishing                    896 non-null object\n",
      "bathroom                     896 non-null object\n",
      "apartament_fix               896 non-null object\n",
      "price                        896 non-null float64\n",
      "y_pred_price_mean            896 non-null float64\n",
      "price_m2                     896 non-null float64\n",
      "y_pred_price_m2_mean_area    896 non-null float64\n",
      "price_log                    896 non-null float64\n",
      "price_log_m2                 896 non-null float64\n",
      "dtypes: float64(7), int16(2), int64(5), object(24)\n",
      "memory usage: 262.5+ KB\n"
     ]
    }
   ],
   "source": [
    "df.info()"
   ]
  },
  {
   "cell_type": "code",
   "execution_count": 21,
   "metadata": {},
   "outputs": [
    {
     "data": {
      "text/plain": [
       "(11, 38)"
      ]
     },
     "execution_count": 21,
     "metadata": {},
     "output_type": "execute_result"
    }
   ],
   "source": [
    "df[ df['building'].isnull() ].shape"
   ]
  },
  {
   "cell_type": "code",
   "execution_count": 23,
   "metadata": {},
   "outputs": [
    {
     "data": {
      "text/html": [
       "<div>\n",
       "<style scoped>\n",
       "    .dataframe tbody tr th:only-of-type {\n",
       "        vertical-align: middle;\n",
       "    }\n",
       "\n",
       "    .dataframe tbody tr th {\n",
       "        vertical-align: top;\n",
       "    }\n",
       "\n",
       "    .dataframe thead th {\n",
       "        text-align: right;\n",
       "    }\n",
       "</style>\n",
       "<table border=\"1\" class=\"dataframe\">\n",
       "  <thead>\n",
       "    <tr style=\"text-align: right;\">\n",
       "      <th></th>\n",
       "      <th>building</th>\n",
       "      <th>extra_benefits</th>\n",
       "      <th>parking</th>\n",
       "      <th>apartament</th>\n",
       "      <th>offer</th>\n",
       "      <th>surroundings</th>\n",
       "      <th>extra_description</th>\n",
       "      <th>benefit_investment</th>\n",
       "      <th>broker_license</th>\n",
       "      <th>stats</th>\n",
       "      <th>...</th>\n",
       "      <th>location</th>\n",
       "      <th>finishing</th>\n",
       "      <th>bathroom</th>\n",
       "      <th>apartament_fix</th>\n",
       "      <th>price</th>\n",
       "      <th>y_pred_price_mean</th>\n",
       "      <th>price_m2</th>\n",
       "      <th>y_pred_price_m2_mean_area</th>\n",
       "      <th>price_log</th>\n",
       "      <th>price_log_m2</th>\n",
       "    </tr>\n",
       "  </thead>\n",
       "  <tbody>\n",
       "    <tr>\n",
       "      <td>0</td>\n",
       "      <td>NaN</td>\n",
       "      <td>NaN</td>\n",
       "      <td>NaN</td>\n",
       "      <td>{'Powierzchnia': '120 m', 'Liczba pokoi': '2'}</td>\n",
       "      <td>990 000 zł (8 250 zł/m</td>\n",
       "      <td>{'Zdrowie': ['\n",
       "                               ...</td>\n",
       "      <td>[Sprzedam atrakcyjny apartament zlokalizowany ...</td>\n",
       "      <td>NaN</td>\n",
       "      <td></td>\n",
       "      <td>[[Źródło: , Biuro nieruchomości], [Rynek: , wt...</td>\n",
       "      <td>...</td>\n",
       "      <td>-1</td>\n",
       "      <td>-1</td>\n",
       "      <td>-1</td>\n",
       "      <td>{'Powierzchnia': '120 m'}</td>\n",
       "      <td>990000.0</td>\n",
       "      <td>688142.59123</td>\n",
       "      <td>8250.000000</td>\n",
       "      <td>1.020006e+06</td>\n",
       "      <td>13.805460</td>\n",
       "      <td>0.115046</td>\n",
       "    </tr>\n",
       "    <tr>\n",
       "      <td>0</td>\n",
       "      <td>NaN</td>\n",
       "      <td>NaN</td>\n",
       "      <td>NaN</td>\n",
       "      <td>{'Powierzchnia': '90 m', 'Liczba pokoi': '2'}</td>\n",
       "      <td>1 100 000 zł (12 222 zł/m</td>\n",
       "      <td>{'Zdrowie': ['\n",
       "                               ...</td>\n",
       "      <td>[Gorąco polecam do kupienia piękne mieszkanie ...</td>\n",
       "      <td>NaN</td>\n",
       "      <td></td>\n",
       "      <td>[[Źródło: , Biuro nieruchomości], [Rynek: , wt...</td>\n",
       "      <td>...</td>\n",
       "      <td>-1</td>\n",
       "      <td>-1</td>\n",
       "      <td>-1</td>\n",
       "      <td>{'Powierzchnia': '90 m'}</td>\n",
       "      <td>1100000.0</td>\n",
       "      <td>688142.59123</td>\n",
       "      <td>12222.222222</td>\n",
       "      <td>7.650043e+05</td>\n",
       "      <td>13.910821</td>\n",
       "      <td>0.154565</td>\n",
       "    </tr>\n",
       "    <tr>\n",
       "      <td>0</td>\n",
       "      <td>NaN</td>\n",
       "      <td>NaN</td>\n",
       "      <td>NaN</td>\n",
       "      <td>{'Powierzchnia': '59 m', 'Liczba pokoi': '2'}</td>\n",
       "      <td>635 000 zł (10 763 zł/m</td>\n",
       "      <td>{}</td>\n",
       "      <td>[Do sprzedania słoneczne, przestronne dwupokoj...</td>\n",
       "      <td>NaN</td>\n",
       "      <td></td>\n",
       "      <td>[[Źródło: , Biuro nieruchomości], [Rynek: , wt...</td>\n",
       "      <td>...</td>\n",
       "      <td>-1</td>\n",
       "      <td>-1</td>\n",
       "      <td>-1</td>\n",
       "      <td>{'Powierzchnia': '59 m'}</td>\n",
       "      <td>635000.0</td>\n",
       "      <td>688142.59123</td>\n",
       "      <td>10762.711864</td>\n",
       "      <td>5.015028e+05</td>\n",
       "      <td>13.361380</td>\n",
       "      <td>0.226464</td>\n",
       "    </tr>\n",
       "    <tr>\n",
       "      <td>0</td>\n",
       "      <td>NaN</td>\n",
       "      <td>NaN</td>\n",
       "      <td>NaN</td>\n",
       "      <td>{'Powierzchnia': '61 m', 'Liczba pokoi': '2'}</td>\n",
       "      <td>830 000 zł (13 607 zł/m</td>\n",
       "      <td>{'Zdrowie': ['\n",
       "                               ...</td>\n",
       "      <td>[Duże mieszkanie spółdzielcze własnościowe, z ...</td>\n",
       "      <td>NaN</td>\n",
       "      <td></td>\n",
       "      <td>[[Źródło: , Biuro nieruchomości], [Rynek: , wt...</td>\n",
       "      <td>...</td>\n",
       "      <td>-1</td>\n",
       "      <td>-1</td>\n",
       "      <td>-1</td>\n",
       "      <td>{'Powierzchnia': '61 m'}</td>\n",
       "      <td>830000.0</td>\n",
       "      <td>688142.59123</td>\n",
       "      <td>13606.557377</td>\n",
       "      <td>5.185029e+05</td>\n",
       "      <td>13.629181</td>\n",
       "      <td>0.223429</td>\n",
       "    </tr>\n",
       "    <tr>\n",
       "      <td>0</td>\n",
       "      <td>NaN</td>\n",
       "      <td>NaN</td>\n",
       "      <td>NaN</td>\n",
       "      <td>{'Powierzchnia': '139 m'}</td>\n",
       "      <td>1 200 000 zł (8 633 zł/m</td>\n",
       "      <td>{'Zdrowie': ['\n",
       "                               ...</td>\n",
       "      <td>[Sprzedam atrakcyjne mieszkanie , klimatyzacja...</td>\n",
       "      <td>NaN</td>\n",
       "      <td></td>\n",
       "      <td>[[Źródło: , Biuro nieruchomości], [Rynek: , wt...</td>\n",
       "      <td>...</td>\n",
       "      <td>-1</td>\n",
       "      <td>-1</td>\n",
       "      <td>-1</td>\n",
       "      <td>{'Powierzchnia': '139 m'}</td>\n",
       "      <td>1200000.0</td>\n",
       "      <td>688142.59123</td>\n",
       "      <td>8633.093525</td>\n",
       "      <td>1.181507e+06</td>\n",
       "      <td>13.997832</td>\n",
       "      <td>0.100704</td>\n",
       "    </tr>\n",
       "    <tr>\n",
       "      <td>0</td>\n",
       "      <td>NaN</td>\n",
       "      <td>NaN</td>\n",
       "      <td>NaN</td>\n",
       "      <td>{'Powierzchnia': '360 m', 'Liczba pokoi': '2'}</td>\n",
       "      <td>3 250 000 zł (9 028 zł/m</td>\n",
       "      <td>{'Zdrowie': ['\n",
       "                               ...</td>\n",
       "      <td>[| , \\n Ładny, skrajny segment położony w głęb...</td>\n",
       "      <td>NaN</td>\n",
       "      <td>Nr licencji pośrednika: 10681</td>\n",
       "      <td>[[Źródło: , Biuro nieruchomości], [Rynek: , wt...</td>\n",
       "      <td>...</td>\n",
       "      <td>-1</td>\n",
       "      <td>-1</td>\n",
       "      <td>-1</td>\n",
       "      <td>{'Powierzchnia': '360 m'}</td>\n",
       "      <td>3250000.0</td>\n",
       "      <td>688142.59123</td>\n",
       "      <td>9027.777778</td>\n",
       "      <td>3.060017e+06</td>\n",
       "      <td>14.994166</td>\n",
       "      <td>0.041650</td>\n",
       "    </tr>\n",
       "    <tr>\n",
       "      <td>0</td>\n",
       "      <td>NaN</td>\n",
       "      <td>NaN</td>\n",
       "      <td>NaN</td>\n",
       "      <td>{'Forma własności': 'własność', 'Powierzchnia'...</td>\n",
       "      <td>1 250 000 zł (8 929 zł/m</td>\n",
       "      <td>{'Zdrowie': ['\n",
       "                               ...</td>\n",
       "      <td>[www.crystalhouse.pl , \\n, \\nAPARTAMENT NA OSI...</td>\n",
       "      <td>NaN</td>\n",
       "      <td>Nr licencji pośrednika: 9166</td>\n",
       "      <td>[[Źródło: , Biuro nieruchomości], [Rynek: , wt...</td>\n",
       "      <td>...</td>\n",
       "      <td>-1</td>\n",
       "      <td>-1</td>\n",
       "      <td>-1</td>\n",
       "      <td>{'Forma własności': 'własność', 'Powierzchnia'...</td>\n",
       "      <td>1250000.0</td>\n",
       "      <td>688142.59123</td>\n",
       "      <td>8928.571429</td>\n",
       "      <td>1.190007e+06</td>\n",
       "      <td>14.038654</td>\n",
       "      <td>0.100276</td>\n",
       "    </tr>\n",
       "    <tr>\n",
       "      <td>0</td>\n",
       "      <td>NaN</td>\n",
       "      <td>NaN</td>\n",
       "      <td>NaN</td>\n",
       "      <td>{'Powierzchnia': '51 m', 'Liczba pokoi': '3', ...</td>\n",
       "      <td>466 000 zł (9 137 zł/m</td>\n",
       "      <td>{}</td>\n",
       "      <td>[| , \\nMieszkanie o powierzchni 51 m 2 położon...</td>\n",
       "      <td>NaN</td>\n",
       "      <td>Nr licencji pośrednika: 3154</td>\n",
       "      <td>[[Źródło: , Biuro nieruchomości], [Rynek: , wt...</td>\n",
       "      <td>...</td>\n",
       "      <td>-1</td>\n",
       "      <td>-1</td>\n",
       "      <td>-1</td>\n",
       "      <td>{'Powierzchnia': '51 m', 'Piętro': '3'}</td>\n",
       "      <td>466000.0</td>\n",
       "      <td>688142.59123</td>\n",
       "      <td>9137.254902</td>\n",
       "      <td>4.335024e+05</td>\n",
       "      <td>13.051941</td>\n",
       "      <td>0.255920</td>\n",
       "    </tr>\n",
       "    <tr>\n",
       "      <td>0</td>\n",
       "      <td>NaN</td>\n",
       "      <td>NaN</td>\n",
       "      <td>NaN</td>\n",
       "      <td>{'Powierzchnia': '96 m', 'Liczba pokoi': '1', ...</td>\n",
       "      <td>790 000 zł (8 229 zł/m</td>\n",
       "      <td>{}</td>\n",
       "      <td>[Do sprzedania apartament w cichym miejscu Mok...</td>\n",
       "      <td>NaN</td>\n",
       "      <td></td>\n",
       "      <td>[[Źródło: , Biuro nieruchomości], [Rynek: , wt...</td>\n",
       "      <td>...</td>\n",
       "      <td>-1</td>\n",
       "      <td>-1</td>\n",
       "      <td>-1</td>\n",
       "      <td>{'Powierzchnia': '96 m', 'Piętro': '1'}</td>\n",
       "      <td>790000.0</td>\n",
       "      <td>688142.59123</td>\n",
       "      <td>8229.166667</td>\n",
       "      <td>8.160046e+05</td>\n",
       "      <td>13.579788</td>\n",
       "      <td>0.141456</td>\n",
       "    </tr>\n",
       "    <tr>\n",
       "      <td>0</td>\n",
       "      <td>NaN</td>\n",
       "      <td>NaN</td>\n",
       "      <td>NaN</td>\n",
       "      <td>{'Powierzchnia': '71 m'}</td>\n",
       "      <td>1 000 000 zł (14 085 zł/m</td>\n",
       "      <td>{'Zdrowie': ['\n",
       "                               ...</td>\n",
       "      <td>[Prestiżowy i elegancki apartament na zamknięt...</td>\n",
       "      <td>NaN</td>\n",
       "      <td>Nr licencji pośrednika: 17238</td>\n",
       "      <td>[[Źródło: , Biuro nieruchomości], [Rynek: , wt...</td>\n",
       "      <td>...</td>\n",
       "      <td>-1</td>\n",
       "      <td>-1</td>\n",
       "      <td>-1</td>\n",
       "      <td>{'Powierzchnia': '71 m'}</td>\n",
       "      <td>1000000.0</td>\n",
       "      <td>688142.59123</td>\n",
       "      <td>14084.507042</td>\n",
       "      <td>6.035034e+05</td>\n",
       "      <td>13.815511</td>\n",
       "      <td>0.194585</td>\n",
       "    </tr>\n",
       "    <tr>\n",
       "      <td>0</td>\n",
       "      <td>NaN</td>\n",
       "      <td>NaN</td>\n",
       "      <td>NaN</td>\n",
       "      <td>{'Forma własności': 'spółdzielcze własnościowe...</td>\n",
       "      <td>510 000 zł (6 800 zł/m</td>\n",
       "      <td>{'Zdrowie': ['\n",
       "                               ...</td>\n",
       "      <td>[Do sprzedania 3 pokojowe 75m2 mieszkanie na w...</td>\n",
       "      <td>NaN</td>\n",
       "      <td></td>\n",
       "      <td>[[Źródło: , Biuro nieruchomości], [Rynek: , wt...</td>\n",
       "      <td>...</td>\n",
       "      <td>-1</td>\n",
       "      <td>-1</td>\n",
       "      <td>-1</td>\n",
       "      <td>{'Forma własności': 'spółdzielcze własnościowe...</td>\n",
       "      <td>510000.0</td>\n",
       "      <td>688142.59123</td>\n",
       "      <td>6800.000000</td>\n",
       "      <td>6.375036e+05</td>\n",
       "      <td>13.142166</td>\n",
       "      <td>0.175229</td>\n",
       "    </tr>\n",
       "  </tbody>\n",
       "</table>\n",
       "<p>11 rows × 38 columns</p>\n",
       "</div>"
      ],
      "text/plain": [
       "  building extra_benefits parking  \\\n",
       "0      NaN            NaN     NaN   \n",
       "0      NaN            NaN     NaN   \n",
       "0      NaN            NaN     NaN   \n",
       "0      NaN            NaN     NaN   \n",
       "0      NaN            NaN     NaN   \n",
       "0      NaN            NaN     NaN   \n",
       "0      NaN            NaN     NaN   \n",
       "0      NaN            NaN     NaN   \n",
       "0      NaN            NaN     NaN   \n",
       "0      NaN            NaN     NaN   \n",
       "0      NaN            NaN     NaN   \n",
       "\n",
       "                                          apartament  \\\n",
       "0     {'Powierzchnia': '120 m', 'Liczba pokoi': '2'}   \n",
       "0      {'Powierzchnia': '90 m', 'Liczba pokoi': '2'}   \n",
       "0      {'Powierzchnia': '59 m', 'Liczba pokoi': '2'}   \n",
       "0      {'Powierzchnia': '61 m', 'Liczba pokoi': '2'}   \n",
       "0                          {'Powierzchnia': '139 m'}   \n",
       "0     {'Powierzchnia': '360 m', 'Liczba pokoi': '2'}   \n",
       "0  {'Forma własności': 'własność', 'Powierzchnia'...   \n",
       "0  {'Powierzchnia': '51 m', 'Liczba pokoi': '3', ...   \n",
       "0  {'Powierzchnia': '96 m', 'Liczba pokoi': '1', ...   \n",
       "0                           {'Powierzchnia': '71 m'}   \n",
       "0  {'Forma własności': 'spółdzielcze własnościowe...   \n",
       "\n",
       "                       offer  \\\n",
       "0     990 000 zł (8 250 zł/m   \n",
       "0  1 100 000 zł (12 222 zł/m   \n",
       "0    635 000 zł (10 763 zł/m   \n",
       "0    830 000 zł (13 607 zł/m   \n",
       "0   1 200 000 zł (8 633 zł/m   \n",
       "0   3 250 000 zł (9 028 zł/m   \n",
       "0   1 250 000 zł (8 929 zł/m   \n",
       "0     466 000 zł (9 137 zł/m   \n",
       "0     790 000 zł (8 229 zł/m   \n",
       "0  1 000 000 zł (14 085 zł/m   \n",
       "0     510 000 zł (6 800 zł/m   \n",
       "\n",
       "                                        surroundings  \\\n",
       "0  {'Zdrowie': ['\n",
       "                               ...   \n",
       "0  {'Zdrowie': ['\n",
       "                               ...   \n",
       "0                                                 {}   \n",
       "0  {'Zdrowie': ['\n",
       "                               ...   \n",
       "0  {'Zdrowie': ['\n",
       "                               ...   \n",
       "0  {'Zdrowie': ['\n",
       "                               ...   \n",
       "0  {'Zdrowie': ['\n",
       "                               ...   \n",
       "0                                                 {}   \n",
       "0                                                 {}   \n",
       "0  {'Zdrowie': ['\n",
       "                               ...   \n",
       "0  {'Zdrowie': ['\n",
       "                               ...   \n",
       "\n",
       "                                   extra_description benefit_investment  \\\n",
       "0  [Sprzedam atrakcyjny apartament zlokalizowany ...                NaN   \n",
       "0  [Gorąco polecam do kupienia piękne mieszkanie ...                NaN   \n",
       "0  [Do sprzedania słoneczne, przestronne dwupokoj...                NaN   \n",
       "0  [Duże mieszkanie spółdzielcze własnościowe, z ...                NaN   \n",
       "0  [Sprzedam atrakcyjne mieszkanie , klimatyzacja...                NaN   \n",
       "0  [| , \\n Ładny, skrajny segment położony w głęb...                NaN   \n",
       "0  [www.crystalhouse.pl , \\n, \\nAPARTAMENT NA OSI...                NaN   \n",
       "0  [| , \\nMieszkanie o powierzchni 51 m 2 położon...                NaN   \n",
       "0  [Do sprzedania apartament w cichym miejscu Mok...                NaN   \n",
       "0  [Prestiżowy i elegancki apartament na zamknięt...                NaN   \n",
       "0  [Do sprzedania 3 pokojowe 75m2 mieszkanie na w...                NaN   \n",
       "\n",
       "                  broker_license  \\\n",
       "0                                  \n",
       "0                                  \n",
       "0                                  \n",
       "0                                  \n",
       "0                                  \n",
       "0  Nr licencji pośrednika: 10681   \n",
       "0   Nr licencji pośrednika: 9166   \n",
       "0   Nr licencji pośrednika: 3154   \n",
       "0                                  \n",
       "0  Nr licencji pośrednika: 17238   \n",
       "0                                  \n",
       "\n",
       "                                               stats  ...  location  \\\n",
       "0  [[Źródło: , Biuro nieruchomości], [Rynek: , wt...  ...        -1   \n",
       "0  [[Źródło: , Biuro nieruchomości], [Rynek: , wt...  ...        -1   \n",
       "0  [[Źródło: , Biuro nieruchomości], [Rynek: , wt...  ...        -1   \n",
       "0  [[Źródło: , Biuro nieruchomości], [Rynek: , wt...  ...        -1   \n",
       "0  [[Źródło: , Biuro nieruchomości], [Rynek: , wt...  ...        -1   \n",
       "0  [[Źródło: , Biuro nieruchomości], [Rynek: , wt...  ...        -1   \n",
       "0  [[Źródło: , Biuro nieruchomości], [Rynek: , wt...  ...        -1   \n",
       "0  [[Źródło: , Biuro nieruchomości], [Rynek: , wt...  ...        -1   \n",
       "0  [[Źródło: , Biuro nieruchomości], [Rynek: , wt...  ...        -1   \n",
       "0  [[Źródło: , Biuro nieruchomości], [Rynek: , wt...  ...        -1   \n",
       "0  [[Źródło: , Biuro nieruchomości], [Rynek: , wt...  ...        -1   \n",
       "\n",
       "   finishing  bathroom                                     apartament_fix  \\\n",
       "0         -1        -1                          {'Powierzchnia': '120 m'}   \n",
       "0         -1        -1                           {'Powierzchnia': '90 m'}   \n",
       "0         -1        -1                           {'Powierzchnia': '59 m'}   \n",
       "0         -1        -1                           {'Powierzchnia': '61 m'}   \n",
       "0         -1        -1                          {'Powierzchnia': '139 m'}   \n",
       "0         -1        -1                          {'Powierzchnia': '360 m'}   \n",
       "0         -1        -1  {'Forma własności': 'własność', 'Powierzchnia'...   \n",
       "0         -1        -1            {'Powierzchnia': '51 m', 'Piętro': '3'}   \n",
       "0         -1        -1            {'Powierzchnia': '96 m', 'Piętro': '1'}   \n",
       "0         -1        -1                           {'Powierzchnia': '71 m'}   \n",
       "0         -1        -1  {'Forma własności': 'spółdzielcze własnościowe...   \n",
       "\n",
       "       price y_pred_price_mean      price_m2 y_pred_price_m2_mean_area  \\\n",
       "0   990000.0      688142.59123   8250.000000              1.020006e+06   \n",
       "0  1100000.0      688142.59123  12222.222222              7.650043e+05   \n",
       "0   635000.0      688142.59123  10762.711864              5.015028e+05   \n",
       "0   830000.0      688142.59123  13606.557377              5.185029e+05   \n",
       "0  1200000.0      688142.59123   8633.093525              1.181507e+06   \n",
       "0  3250000.0      688142.59123   9027.777778              3.060017e+06   \n",
       "0  1250000.0      688142.59123   8928.571429              1.190007e+06   \n",
       "0   466000.0      688142.59123   9137.254902              4.335024e+05   \n",
       "0   790000.0      688142.59123   8229.166667              8.160046e+05   \n",
       "0  1000000.0      688142.59123  14084.507042              6.035034e+05   \n",
       "0   510000.0      688142.59123   6800.000000              6.375036e+05   \n",
       "\n",
       "   price_log  price_log_m2  \n",
       "0  13.805460      0.115046  \n",
       "0  13.910821      0.154565  \n",
       "0  13.361380      0.226464  \n",
       "0  13.629181      0.223429  \n",
       "0  13.997832      0.100704  \n",
       "0  14.994166      0.041650  \n",
       "0  14.038654      0.100276  \n",
       "0  13.051941      0.255920  \n",
       "0  13.579788      0.141456  \n",
       "0  13.815511      0.194585  \n",
       "0  13.142166      0.175229  \n",
       "\n",
       "[11 rows x 38 columns]"
      ]
     },
     "execution_count": 23,
     "metadata": {},
     "output_type": "execute_result"
    }
   ],
   "source": [
    "df[ df['building'].isnull()]"
   ]
  },
  {
   "cell_type": "code",
   "execution_count": 26,
   "metadata": {},
   "outputs": [
    {
     "data": {
      "text/plain": [
       "0    4\n",
       "0    2\n",
       "0    4\n",
       "0    8\n",
       "0    4\n",
       "    ..\n",
       "0    7\n",
       "0    3\n",
       "0    4\n",
       "0    8\n",
       "0    3\n",
       "Name: building, Length: 896, dtype: object"
      ]
     },
     "execution_count": 26,
     "metadata": {},
     "output_type": "execute_result"
    }
   ],
   "source": [
    "def get_num_floors(x):\n",
    "    if str(x) == 'nan': return ''\n",
    "    if 'Liczba pięter' not in x: return ''\n",
    "    \n",
    "    return x['Liczba pięter']\n",
    "\n",
    "df['building'].map(get_num_floors)"
   ]
  },
  {
   "cell_type": "code",
   "execution_count": 32,
   "metadata": {},
   "outputs": [
    {
     "data": {
      "text/plain": [
       "(11, 39)"
      ]
     },
     "execution_count": 32,
     "metadata": {},
     "output_type": "execute_result"
    }
   ],
   "source": [
    "df[ df['building'].isnull() ].shape"
   ]
  },
  {
   "cell_type": "code",
   "execution_count": 28,
   "metadata": {},
   "outputs": [
    {
     "data": {
      "text/plain": [
       "23"
      ]
     },
     "execution_count": 28,
     "metadata": {},
     "output_type": "execute_result"
    }
   ],
   "source": [
    "df['num_floors'] = df['building'].map(get_num_floors)\n",
    "df['num_floors'].nunique()"
   ]
  },
  {
   "cell_type": "code",
   "execution_count": 43,
   "metadata": {},
   "outputs": [
    {
     "data": {
      "text/plain": [
       "array([  4,   2,   8,  10,   3,  16,   7,   6, -10,   5,  12,  11,   9,\n",
       "        14,  20,  15,   1,  13,  22,  17,  25,  30,  19], dtype=int64)"
      ]
     },
     "execution_count": 43,
     "metadata": {},
     "output_type": "execute_result"
    }
   ],
   "source": [
    "df['num_floors'].unique()"
   ]
  },
  {
   "cell_type": "code",
   "execution_count": 34,
   "metadata": {},
   "outputs": [
    {
     "data": {
      "text/plain": [
       "(3, 39)"
      ]
     },
     "execution_count": 34,
     "metadata": {},
     "output_type": "execute_result"
    }
   ],
   "source": [
    "df[ df['num_floors'] == 'powyżej 30'].shape"
   ]
  },
  {
   "cell_type": "code",
   "execution_count": 41,
   "metadata": {},
   "outputs": [
    {
     "data": {
      "text/plain": [
       "array([4, 2, 8, 10, 3, 16, 7, 6, '', 5, 12, 11, 9, 14, 20, 15, 1, 13, 22,\n",
       "       17, 25, 30, 19], dtype=object)"
      ]
     },
     "execution_count": 41,
     "metadata": {},
     "output_type": "execute_result"
    }
   ],
   "source": [
    "def get_num_floors(x):\n",
    "    if str(x) == 'nan': return ''\n",
    "    if 'Liczba pięter' not in x: return ''\n",
    "    if 'powyżej 30' == x['Liczba pięter']: return 30\n",
    "    \n",
    "    return int(x['Liczba pięter'])\n",
    "\n",
    "df['building'].map(get_num_floors).unique()"
   ]
  },
  {
   "cell_type": "code",
   "execution_count": 42,
   "metadata": {},
   "outputs": [
    {
     "data": {
      "text/plain": [
       " 4     190\n",
       " 3     165\n",
       " 6      85\n",
       " 5      82\n",
       " 2      75\n",
       " 10     62\n",
       " 7      56\n",
       " 8      55\n",
       "-10     32\n",
       " 9      17\n",
       " 12     15\n",
       " 11     11\n",
       " 13     10\n",
       " 1       9\n",
       " 16      8\n",
       " 14      6\n",
       " 15      5\n",
       " 17      5\n",
       " 30      3\n",
       " 20      2\n",
       " 19      1\n",
       " 22      1\n",
       " 25      1\n",
       "Name: num_floors, dtype: int64"
      ]
     },
     "execution_count": 42,
     "metadata": {},
     "output_type": "execute_result"
    }
   ],
   "source": [
    "def get_num_floors(x):\n",
    "    if str(x) == 'nan': return -10\n",
    "    if 'Liczba pięter' not in x: return -10\n",
    "    if 'powyżej 30' == x['Liczba pięter']: return 30\n",
    "    \n",
    "    return x['Liczba pięter']\n",
    "\n",
    "df['num_floors']  = df['building'].map(get_num_floors).astype(np.int)\n",
    "df['num_floors'].value_counts()"
   ]
  },
  {
   "cell_type": "code",
   "execution_count": 37,
   "metadata": {},
   "outputs": [
    {
     "data": {
      "text/plain": [
       "0                                                  NaN\n",
       "0                                                  NaN\n",
       "0    telefon, internet, TV kablowa, winda, ogrzewan...\n",
       "0                                                winda\n",
       "0                                                  NaN\n",
       "                           ...                        \n",
       "0                                                  NaN\n",
       "0                                                  NaN\n",
       "0                                                  NaN\n",
       "0                                              telefon\n",
       "0                                                  NaN\n",
       "Name: extra_benefits, Length: 896, dtype: object"
      ]
     },
     "execution_count": 37,
     "metadata": {},
     "output_type": "execute_result"
    }
   ],
   "source": [
    "df['extra_benefits']"
   ]
  },
  {
   "cell_type": "code",
   "execution_count": 38,
   "metadata": {},
   "outputs": [
    {
     "data": {
      "text/plain": [
       "0                                                  NaN\n",
       "0                                                  NaN\n",
       "0    [telefon,  internet,  TV kablowa,  winda,  ogr...\n",
       "0                                              [winda]\n",
       "0                                                  NaN\n",
       "                           ...                        \n",
       "0                                                  NaN\n",
       "0                                                  NaN\n",
       "0                                                  NaN\n",
       "0                                            [telefon]\n",
       "0                                                  NaN\n",
       "Name: extra_benefits, Length: 896, dtype: object"
      ]
     },
     "execution_count": 38,
     "metadata": {},
     "output_type": "execute_result"
    }
   ],
   "source": [
    "df['extra_benefits'].str.split(',')"
   ]
  },
  {
   "cell_type": "code",
   "execution_count": 40,
   "metadata": {},
   "outputs": [],
   "source": [
    "_ = df['extra_benefits'].str.split(',').map(lambda x: x)"
   ]
  },
  {
   "cell_type": "code",
   "execution_count": 44,
   "metadata": {},
   "outputs": [
    {
     "data": {
      "text/plain": [
       "-10      139\n",
       " 2008     40\n",
       " 2000     38\n",
       " 2006     32\n",
       " 2016     28\n",
       "        ... \n",
       " 1971      1\n",
       " 1973      1\n",
       " 1949      1\n",
       " 1951      1\n",
       " 1928      1\n",
       "Name: year_building, Length: 98, dtype: int64"
      ]
     },
     "execution_count": 44,
     "metadata": {},
     "output_type": "execute_result"
    }
   ],
   "source": [
    "def get_num_years(x):\n",
    "    if str(x) == 'nan': return -10\n",
    "    if 'Rok budowy' not in x: return -10\n",
    "    \n",
    "    return x['Rok budowy']\n",
    "\n",
    "df['year_building']  = df['building'].map(get_num_years).astype(np.int)\n",
    "df['year_building'].value_counts()"
   ]
  },
  {
   "cell_type": "code",
   "execution_count": 45,
   "metadata": {},
   "outputs": [
    {
     "data": {
      "text/plain": [
       "array([2018, 2012, 1995, 1936, 2016, 1997, 1935, 1965,  -10, 1998, 1930,\n",
       "       2001, 1992, 1999, 2004, 1960, 1964, 1954, 1959, 2009, 1985, 1981,\n",
       "       1994, 1914, 1980, 1957, 1967, 2006, 1990, 2008, 2005, 2000, 1962,\n",
       "       2014, 1983, 2007, 2010, 1955, 2002, 1956, 1926, 1938, 2017, 1993,\n",
       "       1908, 1977, 1880, 1982, 1996, 1987, 2019, 2013, 1951, 1968, 2015,\n",
       "       1972, 2011, 1932, 1925, 1912, 1950, 1989, 2003, 1976, 1986, 1952,\n",
       "       1913, 1963, 1948, 1974, 1988, 1958, 1939, 1991, 1910, 1900, 1970,\n",
       "       1975, 1949, 1920, 1969, 1916, 1953, 1971, 1937, 1973, 1984, 1978,\n",
       "       1830, 1929, 1947, 1966, 1897, 1928, 1933, 1904, 1915, 1979],\n",
       "      dtype=int64)"
      ]
     },
     "execution_count": 45,
     "metadata": {},
     "output_type": "execute_result"
    }
   ],
   "source": [
    "df['year_building'].unique()"
   ]
  },
  {
   "cell_type": "code",
   "execution_count": 46,
   "metadata": {},
   "outputs": [
    {
     "data": {
      "text/plain": [
       "blok                 396\n",
       "apartamentowiec      182\n",
       "-10                  157\n",
       "kamienica            114\n",
       "wieżowiec             26\n",
       "dom wielorodzinny     20\n",
       "inny                   1\n",
       "Name: type_building, dtype: int64"
      ]
     },
     "execution_count": 46,
     "metadata": {},
     "output_type": "execute_result"
    }
   ],
   "source": [
    "def get_num_type(x):\n",
    "    if str(x) == 'nan': return -10\n",
    "    if 'Typ budynku' not in x: return -10\n",
    "    \n",
    "    return x['Typ budynku']\n",
    "\n",
    "df['type_building']  = df['building'].map(get_num_type)\n",
    "df['type_building'].value_counts()"
   ]
  },
  {
   "cell_type": "code",
   "execution_count": 47,
   "metadata": {},
   "outputs": [
    {
     "data": {
      "text/plain": [
       "array(['apartamentowiec', 'dom wielorodzinny', -10, 'blok', 'kamienica',\n",
       "       'wieżowiec', 'inny'], dtype=object)"
      ]
     },
     "execution_count": 47,
     "metadata": {},
     "output_type": "execute_result"
    }
   ],
   "source": [
    "df['type_building'].unique()"
   ]
  },
  {
   "cell_type": "code",
   "execution_count": 48,
   "metadata": {},
   "outputs": [
    {
     "data": {
      "text/plain": [
       "cegła       396\n",
       "-10         310\n",
       "mieszany     76\n",
       "rama H       57\n",
       "płyta        46\n",
       "pustak        5\n",
       "beton         4\n",
       "silikat       2\n",
       "Name: material_building, dtype: int64"
      ]
     },
     "execution_count": 48,
     "metadata": {},
     "output_type": "execute_result"
    }
   ],
   "source": [
    "def get_num_material(x):\n",
    "    if str(x) == 'nan': return -10\n",
    "    if 'Materiał' not in x: return -10\n",
    "    \n",
    "    return x['Materiał']\n",
    "\n",
    "df['material_building']  = df['building'].map(get_num_material)\n",
    "df['material_building'].value_counts()"
   ]
  },
  {
   "cell_type": "code",
   "execution_count": 49,
   "metadata": {},
   "outputs": [
    {
     "data": {
      "text/plain": [
       "array(['apartamentowiec', 'dom wielorodzinny', -10, 'blok', 'kamienica',\n",
       "       'wieżowiec', 'inny'], dtype=object)"
      ]
     },
     "execution_count": 49,
     "metadata": {},
     "output_type": "execute_result"
    }
   ],
   "source": [
    "df['type_building'].unique()"
   ]
  },
  {
   "cell_type": "code",
   "execution_count": null,
   "metadata": {},
   "outputs": [],
   "source": []
  }
 ],
 "metadata": {
  "kernelspec": {
   "display_name": "Python 3",
   "language": "python",
   "name": "python3"
  },
  "language_info": {
   "codemirror_mode": {
    "name": "ipython",
    "version": 3
   },
   "file_extension": ".py",
   "mimetype": "text/x-python",
   "name": "python",
   "nbconvert_exporter": "python",
   "pygments_lexer": "ipython3",
   "version": "3.7.4"
  }
 },
 "nbformat": 4,
 "nbformat_minor": 2
}
