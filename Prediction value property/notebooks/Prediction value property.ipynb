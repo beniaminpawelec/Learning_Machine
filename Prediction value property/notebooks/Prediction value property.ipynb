{
 "cells": [
  {
   "cell_type": "code",
   "execution_count": 1,
   "metadata": {},
   "outputs": [],
   "source": [
    "import pandas as pd\n",
    "import numpy as np\n",
    "\n",
    "from sklearn.metrics import mean_absolute_error as mae\n",
    "pd.set_option('display.float_format', '{:.2f}'.format) \n",
    "\n",
    "import matplotlib.pyplot as plt\n",
    "plt.style.use('bmh')\n",
    "%matplotlib inline"
   ]
  },
  {
   "cell_type": "code",
   "execution_count": 3,
   "metadata": {},
   "outputs": [
    {
     "data": {
      "text/html": [
       "<div>\n",
       "<style scoped>\n",
       "    .dataframe tbody tr th:only-of-type {\n",
       "        vertical-align: middle;\n",
       "    }\n",
       "\n",
       "    .dataframe tbody tr th {\n",
       "        vertical-align: top;\n",
       "    }\n",
       "\n",
       "    .dataframe thead th {\n",
       "        text-align: right;\n",
       "    }\n",
       "</style>\n",
       "<table border=\"1\" class=\"dataframe\">\n",
       "  <thead>\n",
       "    <tr style=\"text-align: right;\">\n",
       "      <th></th>\n",
       "      <th>building</th>\n",
       "      <th>extra_benefits</th>\n",
       "      <th>parking</th>\n",
       "      <th>apartament</th>\n",
       "      <th>offer</th>\n",
       "      <th>surroundings</th>\n",
       "      <th>extra_description</th>\n",
       "      <th>benefit_investment</th>\n",
       "      <th>broker_license</th>\n",
       "      <th>stats</th>\n",
       "      <th>...</th>\n",
       "      <th>location</th>\n",
       "      <th>finishing</th>\n",
       "      <th>bathroom</th>\n",
       "      <th>apartament_fix</th>\n",
       "      <th>price</th>\n",
       "      <th>y_pred_price_mean</th>\n",
       "      <th>price_m2</th>\n",
       "      <th>y_pred_price_m2_mean_area</th>\n",
       "      <th>price_log</th>\n",
       "      <th>price_log_m2</th>\n",
       "    </tr>\n",
       "  </thead>\n",
       "  <tbody>\n",
       "    <tr>\n",
       "      <td>0</td>\n",
       "      <td>{'Typ budynku': 'apartamentowiec', 'Liczba pię...</td>\n",
       "      <td>winda</td>\n",
       "      <td>NaN</td>\n",
       "      <td>{'Liczba pokoi': '5', 'Kuchnia': 'do wykończen...</td>\n",
       "      <td>3 596 050 zł (26 500 zł/m</td>\n",
       "      <td>{'Zdrowie': ['\n",
       "                               ...</td>\n",
       "      <td>[Maxon Nieruchomości jest zewnętrznym biurem s...</td>\n",
       "      <td>NaN</td>\n",
       "      <td></td>\n",
       "      <td>[[Źródło: , Biuro nieruchomości], [Rynek: , wt...</td>\n",
       "      <td>...</td>\n",
       "      <td>-1</td>\n",
       "      <td>-1</td>\n",
       "      <td>-1</td>\n",
       "      <td>{'Liczba pokoi': '4', 'Kuchnia': 'w aneksie', ...</td>\n",
       "      <td>3596050.00</td>\n",
       "      <td>688142.59</td>\n",
       "      <td>26500.00</td>\n",
       "      <td>1153456.45</td>\n",
       "      <td>15.10</td>\n",
       "      <td>0.11</td>\n",
       "    </tr>\n",
       "    <tr>\n",
       "      <td>0</td>\n",
       "      <td>{'Typ budynku': 'kamienica', 'Liczba pięter': ...</td>\n",
       "      <td>NaN</td>\n",
       "      <td>NaN</td>\n",
       "      <td>{'Liczba poziomów': '4', 'Powierzchnia': '116 ...</td>\n",
       "      <td>3 400 000 zł (29 310 zł/m</td>\n",
       "      <td>{'Zdrowie': ['\n",
       "                               ...</td>\n",
       "      <td>[Apartament w stylowej kamienicy w okolicy Pl....</td>\n",
       "      <td>NaN</td>\n",
       "      <td></td>\n",
       "      <td>[[Źródło: , Biuro nieruchomości], [Rynek: , wt...</td>\n",
       "      <td>...</td>\n",
       "      <td>-1</td>\n",
       "      <td>-1</td>\n",
       "      <td>-1</td>\n",
       "      <td>{'Liczba poziomów': 'jednopoziomowe', 'Powierz...</td>\n",
       "      <td>3400000.00</td>\n",
       "      <td>688142.59</td>\n",
       "      <td>29310.34</td>\n",
       "      <td>986005.51</td>\n",
       "      <td>15.04</td>\n",
       "      <td>0.13</td>\n",
       "    </tr>\n",
       "    <tr>\n",
       "      <td>0</td>\n",
       "      <td>{'Liczba pięter': '2', 'Rok budowy': '2006', '...</td>\n",
       "      <td>NaN</td>\n",
       "      <td>NaN</td>\n",
       "      <td>{'Liczba pokoi': '1', 'Forma własności': 'włas...</td>\n",
       "      <td>998 000 zł (12 321 zł/m</td>\n",
       "      <td>{'Zdrowie': ['\n",
       "                               ...</td>\n",
       "      <td>[Imielin - elitarne osiedle kameralnych niskic...</td>\n",
       "      <td>NaN</td>\n",
       "      <td>Nr licencji pośrednika: 3536</td>\n",
       "      <td>[[Źródło: , Biuro nieruchomości], [Rynek: , wt...</td>\n",
       "      <td>...</td>\n",
       "      <td>-1</td>\n",
       "      <td>-1</td>\n",
       "      <td>-1</td>\n",
       "      <td>{'Liczba pokoi': '3', 'Forma własności': 'włas...</td>\n",
       "      <td>998000.00</td>\n",
       "      <td>688142.59</td>\n",
       "      <td>12320.99</td>\n",
       "      <td>688503.85</td>\n",
       "      <td>13.81</td>\n",
       "      <td>0.17</td>\n",
       "    </tr>\n",
       "    <tr>\n",
       "      <td>0</td>\n",
       "      <td>{'Typ budynku': 'blok', 'Liczba pięter': '6', ...</td>\n",
       "      <td>telefon, winda, domofon, ochrona</td>\n",
       "      <td>miejsce parkingowe, parking podziemny</td>\n",
       "      <td>{'Liczba pokoi': '2', 'Stan łazienki': 'z okne...</td>\n",
       "      <td>1 200 000 zł (8 658 zł/m</td>\n",
       "      <td>{'Zdrowie': ['\n",
       "                               ...</td>\n",
       "      <td>[Ciche i przestronne mieszkanie na tyłach Blue...</td>\n",
       "      <td>NaN</td>\n",
       "      <td></td>\n",
       "      <td>[[Źródło: , Biuro nieruchomości], [Rynek: , wt...</td>\n",
       "      <td>...</td>\n",
       "      <td>północne, południowe</td>\n",
       "      <td>-1</td>\n",
       "      <td>-1</td>\n",
       "      <td>{'Liczba pokoi': '5', 'Stan łazienki': 'dobry'...</td>\n",
       "      <td>1200000.00</td>\n",
       "      <td>688142.59</td>\n",
       "      <td>8658.01</td>\n",
       "      <td>1178106.58</td>\n",
       "      <td>14.00</td>\n",
       "      <td>0.10</td>\n",
       "    </tr>\n",
       "    <tr>\n",
       "      <td>0</td>\n",
       "      <td>{'Typ budynku': 'blok', 'Liczba pięter': '6', ...</td>\n",
       "      <td>winda</td>\n",
       "      <td>NaN</td>\n",
       "      <td>{'Liczba pokoi': '1', 'Liczba poziomów': '3', ...</td>\n",
       "      <td>690 000 zł (9 324 zł/m</td>\n",
       "      <td>{}</td>\n",
       "      <td>[| , \\nsłoneczne mieszkanie na pierwszym piętr...</td>\n",
       "      <td>NaN</td>\n",
       "      <td>Nr licencji pośrednika: 3154</td>\n",
       "      <td>[[Źródło: , Biuro nieruchomości], [Rynek: , wt...</td>\n",
       "      <td>...</td>\n",
       "      <td>-1</td>\n",
       "      <td>-1</td>\n",
       "      <td>-1</td>\n",
       "      <td>{'Liczba pokoi': '3', 'Liczba poziomów': 'jedn...</td>\n",
       "      <td>690000.00</td>\n",
       "      <td>688142.59</td>\n",
       "      <td>9324.32</td>\n",
       "      <td>629003.52</td>\n",
       "      <td>13.44</td>\n",
       "      <td>0.18</td>\n",
       "    </tr>\n",
       "  </tbody>\n",
       "</table>\n",
       "<p>5 rows × 38 columns</p>\n",
       "</div>"
      ],
      "text/plain": [
       "                                            building  \\\n",
       "0  {'Typ budynku': 'apartamentowiec', 'Liczba pię...   \n",
       "0  {'Typ budynku': 'kamienica', 'Liczba pięter': ...   \n",
       "0  {'Liczba pięter': '2', 'Rok budowy': '2006', '...   \n",
       "0  {'Typ budynku': 'blok', 'Liczba pięter': '6', ...   \n",
       "0  {'Typ budynku': 'blok', 'Liczba pięter': '6', ...   \n",
       "\n",
       "                     extra_benefits                                parking  \\\n",
       "0                             winda                                    NaN   \n",
       "0                               NaN                                    NaN   \n",
       "0                               NaN                                    NaN   \n",
       "0  telefon, winda, domofon, ochrona  miejsce parkingowe, parking podziemny   \n",
       "0                             winda                                    NaN   \n",
       "\n",
       "                                          apartament  \\\n",
       "0  {'Liczba pokoi': '5', 'Kuchnia': 'do wykończen...   \n",
       "0  {'Liczba poziomów': '4', 'Powierzchnia': '116 ...   \n",
       "0  {'Liczba pokoi': '1', 'Forma własności': 'włas...   \n",
       "0  {'Liczba pokoi': '2', 'Stan łazienki': 'z okne...   \n",
       "0  {'Liczba pokoi': '1', 'Liczba poziomów': '3', ...   \n",
       "\n",
       "                       offer  \\\n",
       "0  3 596 050 zł (26 500 zł/m   \n",
       "0  3 400 000 zł (29 310 zł/m   \n",
       "0    998 000 zł (12 321 zł/m   \n",
       "0   1 200 000 zł (8 658 zł/m   \n",
       "0     690 000 zł (9 324 zł/m   \n",
       "\n",
       "                                        surroundings  \\\n",
       "0  {'Zdrowie': ['\n",
       "                               ...   \n",
       "0  {'Zdrowie': ['\n",
       "                               ...   \n",
       "0  {'Zdrowie': ['\n",
       "                               ...   \n",
       "0  {'Zdrowie': ['\n",
       "                               ...   \n",
       "0                                                 {}   \n",
       "\n",
       "                                   extra_description benefit_investment  \\\n",
       "0  [Maxon Nieruchomości jest zewnętrznym biurem s...                NaN   \n",
       "0  [Apartament w stylowej kamienicy w okolicy Pl....                NaN   \n",
       "0  [Imielin - elitarne osiedle kameralnych niskic...                NaN   \n",
       "0  [Ciche i przestronne mieszkanie na tyłach Blue...                NaN   \n",
       "0  [| , \\nsłoneczne mieszkanie na pierwszym piętr...                NaN   \n",
       "\n",
       "                 broker_license  \\\n",
       "0                                 \n",
       "0                                 \n",
       "0  Nr licencji pośrednika: 3536   \n",
       "0                                 \n",
       "0  Nr licencji pośrednika: 3154   \n",
       "\n",
       "                                               stats  ...  \\\n",
       "0  [[Źródło: , Biuro nieruchomości], [Rynek: , wt...  ...   \n",
       "0  [[Źródło: , Biuro nieruchomości], [Rynek: , wt...  ...   \n",
       "0  [[Źródło: , Biuro nieruchomości], [Rynek: , wt...  ...   \n",
       "0  [[Źródło: , Biuro nieruchomości], [Rynek: , wt...  ...   \n",
       "0  [[Źródło: , Biuro nieruchomości], [Rynek: , wt...  ...   \n",
       "\n",
       "               location  finishing  bathroom  \\\n",
       "0                    -1         -1        -1   \n",
       "0                    -1         -1        -1   \n",
       "0                    -1         -1        -1   \n",
       "0  północne, południowe         -1        -1   \n",
       "0                    -1         -1        -1   \n",
       "\n",
       "                                      apartament_fix      price  \\\n",
       "0  {'Liczba pokoi': '4', 'Kuchnia': 'w aneksie', ... 3596050.00   \n",
       "0  {'Liczba poziomów': 'jednopoziomowe', 'Powierz... 3400000.00   \n",
       "0  {'Liczba pokoi': '3', 'Forma własności': 'włas...  998000.00   \n",
       "0  {'Liczba pokoi': '5', 'Stan łazienki': 'dobry'... 1200000.00   \n",
       "0  {'Liczba pokoi': '3', 'Liczba poziomów': 'jedn...  690000.00   \n",
       "\n",
       "  y_pred_price_mean price_m2 y_pred_price_m2_mean_area price_log  price_log_m2  \n",
       "0         688142.59 26500.00                1153456.45     15.10          0.11  \n",
       "0         688142.59 29310.34                 986005.51     15.04          0.13  \n",
       "0         688142.59 12320.99                 688503.85     13.81          0.17  \n",
       "0         688142.59  8658.01                1178106.58     14.00          0.10  \n",
       "0         688142.59  9324.32                 629003.52     13.44          0.18  \n",
       "\n",
       "[5 rows x 38 columns]"
      ]
     },
     "execution_count": 3,
     "metadata": {},
     "output_type": "execute_result"
    }
   ],
   "source": [
    "df = pd.read_hdf('../input/property_polish.h5')\n",
    "df.sample(5)"
   ]
  },
  {
   "cell_type": "code",
   "execution_count": 4,
   "metadata": {},
   "outputs": [],
   "source": [
    "df['y_pred_price_mean'] = df['price'].mean()"
   ]
  },
  {
   "cell_type": "code",
   "execution_count": 5,
   "metadata": {},
   "outputs": [
    {
     "data": {
      "text/plain": [
       "408331.10340498947"
      ]
     },
     "execution_count": 5,
     "metadata": {},
     "output_type": "execute_result"
    }
   ],
   "source": [
    "mae(df.price, df.y_pred_price_mean)"
   ]
  },
  {
   "cell_type": "code",
   "execution_count": 6,
   "metadata": {},
   "outputs": [],
   "source": [
    "df['price_m2'] = df.price / df.area\n",
    "global_mean_price_m2 = df.price_m2.mean()\n",
    "df['y_pred_price_m2_mean_area'] = global_mean_price_m2 * df.area"
   ]
  },
  {
   "cell_type": "code",
   "execution_count": 7,
   "metadata": {},
   "outputs": [
    {
     "data": {
      "text/plain": [
       "229690.14459799396"
      ]
     },
     "execution_count": 7,
     "metadata": {},
     "output_type": "execute_result"
    }
   ],
   "source": [
    "mae(df.y_pred_price_m2_mean_area, df.price)"
   ]
  },
  {
   "cell_type": "code",
   "execution_count": 8,
   "metadata": {},
   "outputs": [],
   "source": [
    "df['price_log'] = np.log( df.price )\n",
    "\n",
    "mean_price_m2_log = np.log( df['price_m2'] ).mean()\n",
    "y_pred = np.exp(mean_price_m2_log ) * df.area"
   ]
  },
  {
   "cell_type": "code",
   "execution_count": 9,
   "metadata": {},
   "outputs": [
    {
     "data": {
      "text/plain": [
       "223295.69558736696"
      ]
     },
     "execution_count": 9,
     "metadata": {},
     "output_type": "execute_result"
    }
   ],
   "source": [
    "mae(df.price, y_pred)"
   ]
  },
  {
   "cell_type": "code",
   "execution_count": 10,
   "metadata": {},
   "outputs": [],
   "source": [
    "df_kitchen = df.groupby(['kitchen'])['price'].mean().reset_index()"
   ]
  },
  {
   "cell_type": "code",
   "execution_count": 11,
   "metadata": {},
   "outputs": [
    {
     "data": {
      "text/html": [
       "<div>\n",
       "<style scoped>\n",
       "    .dataframe tbody tr th:only-of-type {\n",
       "        vertical-align: middle;\n",
       "    }\n",
       "\n",
       "    .dataframe tbody tr th {\n",
       "        vertical-align: top;\n",
       "    }\n",
       "\n",
       "    .dataframe thead th {\n",
       "        text-align: right;\n",
       "    }\n",
       "</style>\n",
       "<table border=\"1\" class=\"dataframe\">\n",
       "  <thead>\n",
       "    <tr style=\"text-align: right;\">\n",
       "      <th></th>\n",
       "      <th>kitchen</th>\n",
       "      <th>price</th>\n",
       "    </tr>\n",
       "  </thead>\n",
       "  <tbody>\n",
       "    <tr>\n",
       "      <td>0</td>\n",
       "      <td>-1</td>\n",
       "      <td>838825.23</td>\n",
       "    </tr>\n",
       "    <tr>\n",
       "      <td>1</td>\n",
       "      <td>oddzielna</td>\n",
       "      <td>544701.64</td>\n",
       "    </tr>\n",
       "    <tr>\n",
       "      <td>2</td>\n",
       "      <td>oddzielna, z wyposażeniem</td>\n",
       "      <td>2590000.00</td>\n",
       "    </tr>\n",
       "    <tr>\n",
       "      <td>3</td>\n",
       "      <td>prześwit</td>\n",
       "      <td>519750.00</td>\n",
       "    </tr>\n",
       "    <tr>\n",
       "      <td>4</td>\n",
       "      <td>w aneksie</td>\n",
       "      <td>767834.69</td>\n",
       "    </tr>\n",
       "    <tr>\n",
       "      <td>5</td>\n",
       "      <td>w aneksie, w zabudowie</td>\n",
       "      <td>205000.00</td>\n",
       "    </tr>\n",
       "    <tr>\n",
       "      <td>6</td>\n",
       "      <td>z oknem</td>\n",
       "      <td>633653.67</td>\n",
       "    </tr>\n",
       "    <tr>\n",
       "      <td>7</td>\n",
       "      <td>z oknem, oddzielna</td>\n",
       "      <td>450375.00</td>\n",
       "    </tr>\n",
       "    <tr>\n",
       "      <td>8</td>\n",
       "      <td>z oknem, oddzielna, z wyposażeniem</td>\n",
       "      <td>382500.00</td>\n",
       "    </tr>\n",
       "    <tr>\n",
       "      <td>9</td>\n",
       "      <td>z oknem, oddzielna, z wyposażeniem, w zabudowie</td>\n",
       "      <td>772800.00</td>\n",
       "    </tr>\n",
       "    <tr>\n",
       "      <td>10</td>\n",
       "      <td>z oknem, w aneksie</td>\n",
       "      <td>790000.00</td>\n",
       "    </tr>\n",
       "    <tr>\n",
       "      <td>11</td>\n",
       "      <td>z oknem, w aneksie, oddzielna, z wyposażeniem,...</td>\n",
       "      <td>279000.00</td>\n",
       "    </tr>\n",
       "    <tr>\n",
       "      <td>12</td>\n",
       "      <td>z oknem, w aneksie, z wyposażeniem, w zabudowie</td>\n",
       "      <td>1073586.67</td>\n",
       "    </tr>\n",
       "  </tbody>\n",
       "</table>\n",
       "</div>"
      ],
      "text/plain": [
       "                                              kitchen      price\n",
       "0                                                  -1  838825.23\n",
       "1                                           oddzielna  544701.64\n",
       "2                           oddzielna, z wyposażeniem 2590000.00\n",
       "3                                            prześwit  519750.00\n",
       "4                                           w aneksie  767834.69\n",
       "5                              w aneksie, w zabudowie  205000.00\n",
       "6                                             z oknem  633653.67\n",
       "7                                  z oknem, oddzielna  450375.00\n",
       "8                  z oknem, oddzielna, z wyposażeniem  382500.00\n",
       "9     z oknem, oddzielna, z wyposażeniem, w zabudowie  772800.00\n",
       "10                                 z oknem, w aneksie  790000.00\n",
       "11  z oknem, w aneksie, oddzielna, z wyposażeniem,...  279000.00\n",
       "12    z oknem, w aneksie, z wyposażeniem, w zabudowie 1073586.67"
      ]
     },
     "execution_count": 11,
     "metadata": {},
     "output_type": "execute_result"
    }
   ],
   "source": [
    "df_kitchen "
   ]
  },
  {
   "cell_type": "code",
   "execution_count": 13,
   "metadata": {},
   "outputs": [],
   "source": [
    "df_kitchen.columns = ['kitchen', 'price_by_kitchen']\n",
    "df_merged = pd.merge( df, df_kitchen, on='kitchen')"
   ]
  },
  {
   "cell_type": "code",
   "execution_count": 14,
   "metadata": {},
   "outputs": [
    {
     "data": {
      "text/plain": [
       "398812.7793247866"
      ]
     },
     "execution_count": 14,
     "metadata": {},
     "output_type": "execute_result"
    }
   ],
   "source": [
    "mae(df_merged.price, df_merged.price_by_kitchen)"
   ]
  },
  {
   "cell_type": "code",
   "execution_count": 15,
   "metadata": {},
   "outputs": [],
   "source": [
    "df_kitchen_log = df.groupby('kitchen')['price_log'].mean().reset_index()"
   ]
  },
  {
   "cell_type": "code",
   "execution_count": 16,
   "metadata": {},
   "outputs": [
    {
     "name": "stdout",
     "output_type": "stream",
     "text": [
      "Wall time: 15.6 ms\n"
     ]
    }
   ],
   "source": [
    "df_kitchen_log.columns = ['kitchen', 'price_log_by_kitchen']\n",
    "%time df_merged = pd.merge( df, df_kitchen_log, on='kitchen')"
   ]
  },
  {
   "cell_type": "code",
   "execution_count": 17,
   "metadata": {},
   "outputs": [
    {
     "data": {
      "text/plain": [
       "359258.13233915385"
      ]
     },
     "execution_count": 17,
     "metadata": {},
     "output_type": "execute_result"
    }
   ],
   "source": [
    "y_pred = np.exp( df_merged.price_log_by_kitchen )\n",
    "mae(df_merged.price, y_pred)"
   ]
  },
  {
   "cell_type": "code",
   "execution_count": 18,
   "metadata": {},
   "outputs": [
    {
     "data": {
      "text/html": [
       "<div>\n",
       "<style scoped>\n",
       "    .dataframe tbody tr th:only-of-type {\n",
       "        vertical-align: middle;\n",
       "    }\n",
       "\n",
       "    .dataframe tbody tr th {\n",
       "        vertical-align: top;\n",
       "    }\n",
       "\n",
       "    .dataframe thead th {\n",
       "        text-align: right;\n",
       "    }\n",
       "</style>\n",
       "<table border=\"1\" class=\"dataframe\">\n",
       "  <thead>\n",
       "    <tr style=\"text-align: right;\">\n",
       "      <th></th>\n",
       "      <th>num_rooms</th>\n",
       "      <th>ownership</th>\n",
       "      <th>num_floor</th>\n",
       "      <th>price_log</th>\n",
       "    </tr>\n",
       "  </thead>\n",
       "  <tbody>\n",
       "    <tr>\n",
       "      <td>0</td>\n",
       "      <td>-1</td>\n",
       "      <td>-1</td>\n",
       "      <td>-1</td>\n",
       "      <td>13.66</td>\n",
       "    </tr>\n",
       "    <tr>\n",
       "      <td>1</td>\n",
       "      <td>-1</td>\n",
       "      <td>-1</td>\n",
       "      <td>1</td>\n",
       "      <td>13.63</td>\n",
       "    </tr>\n",
       "    <tr>\n",
       "      <td>2</td>\n",
       "      <td>-1</td>\n",
       "      <td>-1</td>\n",
       "      <td>2</td>\n",
       "      <td>13.38</td>\n",
       "    </tr>\n",
       "    <tr>\n",
       "      <td>3</td>\n",
       "      <td>-1</td>\n",
       "      <td>-1</td>\n",
       "      <td>3</td>\n",
       "      <td>13.46</td>\n",
       "    </tr>\n",
       "    <tr>\n",
       "      <td>4</td>\n",
       "      <td>-1</td>\n",
       "      <td>-1</td>\n",
       "      <td>4</td>\n",
       "      <td>13.57</td>\n",
       "    </tr>\n",
       "  </tbody>\n",
       "</table>\n",
       "</div>"
      ],
      "text/plain": [
       "   num_rooms ownership  num_floor  price_log\n",
       "0         -1        -1         -1      13.66\n",
       "1         -1        -1          1      13.63\n",
       "2         -1        -1          2      13.38\n",
       "3         -1        -1          3      13.46\n",
       "4         -1        -1          4      13.57"
      ]
     },
     "execution_count": 18,
     "metadata": {},
     "output_type": "execute_result"
    }
   ],
   "source": [
    "keys = ['num_rooms', 'ownership', 'num_floor']\n",
    "df_grp = df.groupby(keys)['price_log'].mean().reset_index()\n",
    "\n",
    "df_grp.head()"
   ]
  },
  {
   "cell_type": "code",
   "execution_count": 20,
   "metadata": {},
   "outputs": [],
   "source": [
    "new_price_column = 'price_log_by_num_rooms_ownership_num_floor'\n",
    "df_grp.rename(columns={'price_log': new_price_column}, inplace=True)\n",
    "df_merged = pd.merge( df, df_grp, on=keys)"
   ]
  },
  {
   "cell_type": "code",
   "execution_count": 21,
   "metadata": {},
   "outputs": [
    {
     "data": {
      "text/plain": [
       "240274.28392941243"
      ]
     },
     "execution_count": 21,
     "metadata": {},
     "output_type": "execute_result"
    }
   ],
   "source": [
    "y_pred = np.exp( df_merged[new_price_column] )\n",
    "mae(df_merged.price, y_pred)"
   ]
  },
  {
   "cell_type": "code",
   "execution_count": 22,
   "metadata": {},
   "outputs": [],
   "source": [
    "def make_pred_by_groupping(keys, agg_func=np.mean):\n",
    "\n",
    "    df_grp = df.groupby(keys)['price_log'].agg(agg_func).reset_index()\n",
    "    \n",
    "    new_price_column = 'price_log_by_{}'.format( '_'.join(keys) )\n",
    "    df_grp.rename(columns={'price_log': new_price_column}, inplace=True)\n",
    "    df_merged = pd.merge( df, df_grp, on=keys)\n",
    "    \n",
    "    y_pred = np.exp( df_merged[new_price_column] )\n",
    "    return mae(df_merged.price, y_pred)"
   ]
  },
  {
   "cell_type": "code",
   "execution_count": 23,
   "metadata": {},
   "outputs": [
    {
     "data": {
      "text/plain": [
       "240274.28392941243"
      ]
     },
     "execution_count": 23,
     "metadata": {},
     "output_type": "execute_result"
    }
   ],
   "source": [
    "make_pred_by_groupping(['num_rooms', 'ownership', 'num_floor'])"
   ]
  },
  {
   "cell_type": "code",
   "execution_count": 25,
   "metadata": {},
   "outputs": [
    {
     "data": {
      "text/plain": [
       "187785.85996643847"
      ]
     },
     "execution_count": 25,
     "metadata": {},
     "output_type": "execute_result"
    }
   ],
   "source": [
    "make_pred_by_groupping([ 'kitchen', 'num_rooms', 'ownership', 'num_floor'])"
   ]
  },
  {
   "cell_type": "code",
   "execution_count": 26,
   "metadata": {},
   "outputs": [
    {
     "data": {
      "text/plain": [
       "95669.11741032728"
      ]
     },
     "execution_count": 26,
     "metadata": {},
     "output_type": "execute_result"
    }
   ],
   "source": [
    "make_pred_by_groupping(['parking', 'kitchen', 'num_rooms', 'ownership', 'num_floor'])"
   ]
  },
  {
   "cell_type": "code",
   "execution_count": 27,
   "metadata": {},
   "outputs": [
    {
     "data": {
      "text/plain": [
       "14.044943820582713"
      ]
     },
     "execution_count": 27,
     "metadata": {},
     "output_type": "execute_result"
    }
   ],
   "source": [
    "make_pred_by_groupping(['parking','kitchen', 'loudness', 'num_rooms',  'num_floor', 'area','installations','finishing','location','windows','condition_general','ownership'])"
   ]
  },
  {
   "cell_type": "code",
   "execution_count": 28,
   "metadata": {},
   "outputs": [
    {
     "data": {
      "text/plain": [
       "0     (19.537, 112.674]\n",
       "0    (112.674, 205.348]\n",
       "0    (205.348, 298.022]\n",
       "0     (19.537, 112.674]\n",
       "0     (19.537, 112.674]\n",
       "            ...        \n",
       "0     (19.537, 112.674]\n",
       "0    (112.674, 205.348]\n",
       "0     (19.537, 112.674]\n",
       "0     (19.537, 112.674]\n",
       "0     (19.537, 112.674]\n",
       "Name: area, Length: 896, dtype: category\n",
       "Categories (5, interval[float64]): [(19.537, 112.674] < (112.674, 205.348] < (205.348, 298.022] < (298.022, 390.696] < (390.696, 483.37]]"
      ]
     },
     "execution_count": 28,
     "metadata": {},
     "output_type": "execute_result"
    }
   ],
   "source": [
    "pd.cut( df['area'], 5 )"
   ]
  },
  {
   "cell_type": "code",
   "execution_count": 29,
   "metadata": {},
   "outputs": [],
   "source": [
    "df['area_cut5'] = pd.cut( df['area'], 5).factorize()[0]"
   ]
  },
  {
   "cell_type": "code",
   "execution_count": 31,
   "metadata": {},
   "outputs": [
    {
     "data": {
      "text/plain": [
       "17551.13483146101"
      ]
     },
     "execution_count": 31,
     "metadata": {},
     "output_type": "execute_result"
    }
   ],
   "source": [
    "make_pred_by_groupping(['parking','kitchen', 'loudness', 'num_rooms',  'num_floor', 'area_cut5','installations','finishing','location','windows','condition_general','ownership'])"
   ]
  },
  {
   "cell_type": "code",
   "execution_count": null,
   "metadata": {},
   "outputs": [],
   "source": []
  }
 ],
 "metadata": {
  "kernelspec": {
   "display_name": "Python 3",
   "language": "python",
   "name": "python3"
  },
  "language_info": {
   "codemirror_mode": {
    "name": "ipython",
    "version": 3
   },
   "file_extension": ".py",
   "mimetype": "text/x-python",
   "name": "python",
   "nbconvert_exporter": "python",
   "pygments_lexer": "ipython3",
   "version": "3.7.4"
  }
 },
 "nbformat": 4,
 "nbformat_minor": 2
}
