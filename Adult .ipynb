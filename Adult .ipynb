{
 "cells": [
  {
   "cell_type": "code",
   "execution_count": 1,
   "metadata": {},
   "outputs": [],
   "source": [
    "import pandas as pd \n",
    "import numpy as np \n",
    "import matplotlib.pyplot as plt \n",
    "import seaborn as sns"
   ]
  },
  {
   "cell_type": "code",
   "execution_count": 2,
   "metadata": {},
   "outputs": [
    {
     "name": "stdout",
     "output_type": "stream",
     "text": [
      " Volume in drive C has no label.\n",
      " Volume Serial Number is 588D-4BF9\n",
      "\n",
      " Directory of C:\\Users\\benia\\Desktop\\Machine_Learning\n",
      "\n",
      "03.03.2020  16:49    <DIR>          .\n",
      "03.03.2020  16:49    <DIR>          ..\n",
      "02.03.2020  08:18                49 .gitignore\n",
      "03.03.2020  16:49    <DIR>          .ipynb_checkpoints\n",
      "16.02.2020  09:56               690 Adult .ipynb\n",
      "29.02.2020  13:11           109˙131 Decision Tree Classifier.ipynb\n",
      "02.03.2020  08:25    <DIR>          Forecasting price cars\n",
      "23.02.2020  08:53    <DIR>          Forecasting value property\n",
      "25.02.2020  14:13    <DIR>          Korona wyzwaä\n",
      "29.02.2020  12:56            12˙870 Logistic Regression.ipynb\n",
      "               4 File(s)        122˙740 bytes\n",
      "               6 Dir(s)  37˙614˙383˙104 bytes free\n"
     ]
    }
   ],
   "source": [
    "ls\n"
   ]
  },
  {
   "cell_type": "code",
   "execution_count": null,
   "metadata": {},
   "outputs": [],
   "source": []
  }
 ],
 "metadata": {
  "kernelspec": {
   "display_name": "Python 3",
   "language": "python",
   "name": "python3"
  },
  "language_info": {
   "codemirror_mode": {
    "name": "ipython",
    "version": 3
   },
   "file_extension": ".py",
   "mimetype": "text/x-python",
   "name": "python",
   "nbconvert_exporter": "python",
   "pygments_lexer": "ipython3",
   "version": "3.7.3"
  }
 },
 "nbformat": 4,
 "nbformat_minor": 4
}
